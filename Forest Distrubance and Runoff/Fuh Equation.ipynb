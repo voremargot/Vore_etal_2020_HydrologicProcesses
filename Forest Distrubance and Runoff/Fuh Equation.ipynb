{
 "cells": [
  {
   "cell_type": "markdown",
   "metadata": {},
   "source": [
    "###  Packages Needed"
   ]
  },
  {
   "cell_type": "code",
   "execution_count": 2,
   "metadata": {},
   "outputs": [],
   "source": [
    "import pandas as pd\n",
    "import matplotlib.pyplot as plt\n",
    "import numpy as np\n",
    "import matplotlib.patches as patches\n",
    "from matplotlib.offsetbox import AnchoredText\n"
   ]
  },
  {
   "cell_type": "markdown",
   "metadata": {},
   "source": [
    "### Calculating average m and P/PET for the watersheds"
   ]
  },
  {
   "cell_type": "code",
   "execution_count": 4,
   "metadata": {},
   "outputs": [],
   "source": [
    "#watersheds and path\n",
    "watershed=['Spius','Chilko','Chilcotin','Nation','Osilinka','Mesilinka','Stellako','Nautley']\n",
    "path='D:/UNBC/HydroMet_Project/Data/ERA5_land/'\n",
    "\n",
    "\n",
    "\n",
    "Her=[];Ham_Min=[];Ham_Max=[];PP_Ham_Max=[];PP_Ham_Min=[]\n",
    "for ws in watershed:\n",
    "    #load climate data\n",
    "    Tb=pd.read_excel(path+'Summary_ERA5_land_Monthly.xlsx', sheet_name=ws)\n",
    "    \n",
    "    #initilize arrays\n",
    "    PET=[];Runoff_c=[];P_c=[]; PET_Ham_Min=[];PET_Ham_Max=[]\n",
    "    \n",
    "    #get water year runoff precipitation, PET_min, and PET_max\n",
    "    Y=np.arange(1982,2019)\n",
    "    for year in Y:\n",
    "        R=np.nansum(Tb[((Tb.Year==year)&(Tb.Month<10))|((Tb.Year==year-1)&(Tb.Month>=10))]['Runoff'].values)\n",
    "        P=np.nansum(Tb[((Tb.Year==year)&(Tb.Month<10))|((Tb.Year==year-1)&(Tb.Month>=10))]['Avg Precip'].values)\n",
    "        PET_Ham_Min.append(np.nansum(Tb[((Tb.Year==year)&(Tb.Month<10))|((Tb.Year==year-1)&(Tb.Month>=10))]['Calc_PET_Ham_Min'].values))\n",
    "        PET_Ham_Max.append(np.nansum(Tb[((Tb.Year==year)&(Tb.Month<10))|((Tb.Year==year-1)&(Tb.Month>=10))]['Calc_PET_Ham_Max'].values))\n",
    "\n",
    "        \n",
    "        \n",
    "        Runoff_c.append(R/P)\n",
    "        P_c.append(P)\n",
    "    \n",
    "    #mean precipitation, runoff, PET_min, PET_max\n",
    "    P= np.nanmean(P_c)\n",
    "    Runoff=np.nanmean(Runoff_c)\n",
    "    PET_Ham_Min=np.nanmean(PET_Ham_Min)\n",
    "    PET_Ham_Max=np.nanmean(PET_Ham_Max)\n",
    "    \n",
    "    #--------------------------- Min PET--------------------------------\n",
    "    # Finding the approriate m values with minimum PET values for the watershed\n",
    "    m=0.1\n",
    "    H=1\n",
    "\n",
    "    #while the difference between t and Runoff is greater than .001 keep increasing the side of m\n",
    "    while H> 0.001:\n",
    "        t= (1+(P/PET_Ham_Min)**-m)**(1/m)-(P/PET_Ham_Min)**-1\n",
    "        H=abs(Runoff-t)\n",
    "\n",
    "        if H>0.001:\n",
    "            m=m+0.001\n",
    "            \n",
    "    # average m-value and P/PET values for the watershed\n",
    "    Ham_Min.append(m)\n",
    "    PP_Ham_Min.append(P/PET_Ham_Min)\n",
    "    \n",
    "    #------------------------------------Max PET-------------------------------------------------\n",
    "     # Finding the approriate m values with minimum PET values for the watershed\n",
    "    m=0.1\n",
    "    H=1\n",
    "    \n",
    "    #while the difference between t and Runoff is greater than .001 keep increasing the side of m\n",
    "    while H> 0.001:\n",
    "        t= (1+(P/PET_Ham_Max)**-m)**(1/m)-(P/PET_Ham_Max)**-1\n",
    "        H=abs(Runoff-t)\n",
    "\n",
    "        if H>0.001:\n",
    "            m=m+0.001\n",
    "    \n",
    "    # average m-value and P/PET values for the watershed\n",
    "    Ham_Max.append(m)\n",
    "    PP_Ham_Max.append(P/PET_Ham_Max)\n",
    "    "
   ]
  },
  {
   "cell_type": "markdown",
   "metadata": {},
   "source": [
    "### Plotting Fhu's m-value"
   ]
  },
  {
   "cell_type": "code",
   "execution_count": 5,
   "metadata": {},
   "outputs": [
    {
     "name": "stderr",
     "output_type": "stream",
     "text": [
      "C:\\Anaconda3\\envs\\Trial\\lib\\site-packages\\ipykernel_launcher.py:29: UserWarning: Matplotlib is currently using module://ipykernel.pylab.backend_inline, which is a non-GUI backend, so cannot show the figure.\n"
     ]
    },
    {
     "data": {
      "image/png": "[encoded data removed]",
      "text/plain": [
       "<Figure size 504x360 with 1 Axes>"
      ]
     },
     "metadata": {
      "needs_background": "light"
     },
     "output_type": "display_data"
    }
   ],
   "source": [
    "#watersheds\n",
    "watershed=['','Spius','Chilko','Chilcotin','Nation','Osilinka','Mesilinka','Stellako','Nautley']\n",
    "\n",
    "#initilize plots\n",
    "fig,ax1 = plt.subplots(1,1, figsize=(7,5))\n",
    "width=0.9\n",
    "\n",
    "#plotting m-value range for each watershed\n",
    "for i in np.arange(0,8):\n",
    "    x=i-0.4\n",
    "    y=Ham_Max[i]\n",
    "    height=Ham_Min[i]-Ham_Max[i]\n",
    "    ax1.add_patch(patches.Rectangle((x, y), width, height,facecolor='r', edgecolor='k'))\n",
    " \n",
    "#initlize a plot (hidden points)\n",
    "ax1.scatter(3,2.5)\n",
    "ax1.set_xticklabels(watershed, size=10,rotation=45)\n",
    "\n",
    "#----------------------------plotting parameters--------------------\n",
    "ax1.grid(axis='y')\n",
    "ax1.set_ylabel (\"Fhu's m value\", size=15)\n",
    "ax1.axhline(2, color='k',linewidth=3)\n",
    "ax1.set_ylim(1.6,3.4)\n",
    "at = AnchoredText('a', prop=dict(size=12), frameon=True, loc='upper left')\n",
    "at.patch.set_boxstyle(\"Square,pad=0.15\")\n",
    "ax1.add_artist(at)\n",
    "\n",
    "#show and save figure\n",
    "fig.show()\n",
    "fig.savefig('C:/Users/margo.DESKTOP-T66VM01/Desktop/UNBC/Writting_Drafts/Manuscripts_for_submission/Figures/mvalue_Ham.eps')\n"
   ]
  },
  {
   "cell_type": "markdown",
   "metadata": {},
   "source": [
    "### Plotting average P/PET values"
   ]
  },
  {
   "cell_type": "code",
   "execution_count": 7,
   "metadata": {
    "scrolled": true
   },
   "outputs": [
    {
     "name": "stderr",
     "output_type": "stream",
     "text": [
      "C:\\Anaconda3\\envs\\Trial\\lib\\site-packages\\ipykernel_launcher.py:20: UserWarning: Matplotlib is currently using module://ipykernel.pylab.backend_inline, which is a non-GUI backend, so cannot show the figure.\n"
     ]
    },
    {
     "data": {
      "image/png": "[encoded data removed]",
      "text/plain": [
       "<Figure size 504x360 with 1 Axes>"
      ]
     },
     "metadata": {
      "needs_background": "light"
     },
     "output_type": "display_data"
    }
   ],
   "source": [
    "watershed=['','Spius','Chilko','Chilcotin','Nation','Osilinka','Mesilinka','Stellako','Nautley']\n",
    "\n",
    "#initilize plots\n",
    "fig,ax1 = plt.subplots(1,1, figsize=(7,5))\n",
    "width=0.9\n",
    "\n",
    "#plot range of  P/PET values for each watershed\n",
    "for i in np.arange(0,8):\n",
    "    x=i-0.4\n",
    "    y=PP_Ham_Max[i]\n",
    "    height=PP_Ham_Min[i]-PP_Ham_Max[i]\n",
    "    ax1.add_patch(patches.Rectangle((x, y), width, height,facecolor='r', edgecolor='k'))\n",
    "\n",
    "#initilize plot (hidden points)\n",
    "ax1.scatter(3,2.2)\n",
    "\n",
    "# -----------------------------plot parameters---------------------------\n",
    "ax1.set_xticklabels(watershed, size=11,rotation=45)\n",
    "ax1.grid(axis='y')\n",
    "ax1.set_ylabel (\"Average P/PET\", size=15)\n",
    "ax1.axhline(1, color='k',linewidth=3)\n",
    "at = AnchoredText('b', prop=dict(size=12), frameon=True, loc='upper left')\n",
    "at.patch.set_boxstyle(\"Square,pad=0.15\")\n",
    "ax1.add_artist(at)\n",
    "ax1.set_ylim(0.75,3.25)\n",
    "\n",
    "#show figure and save\n",
    "fig.show()\n",
    "fig.savefig('C:/Users/margo.DESKTOP-T66VM01/Desktop/UNBC/Writting_Drafts/Manuscripts_for_submission/Figures/PET_Ham.eps')"
   ]
  }
 ],
 "metadata": {
  "kernelspec": {
   "display_name": "Python 3",
   "language": "python",
   "name": "python3"
  },
  "language_info": {
   "codemirror_mode": {
    "name": "ipython",
    "version": 3
   },
   "file_extension": ".py",
   "mimetype": "text/x-python",
   "name": "python",
   "nbconvert_exporter": "python",
   "pygments_lexer": "ipython3",
   "version": "3.7.6"
  }
 },
 "nbformat": 4,
 "nbformat_minor": 4
}
