{
 "cells": [
  {
   "cell_type": "markdown",
   "metadata": {},
   "source": [
    "### Packages needed"
   ]
  },
  {
   "cell_type": "code",
   "execution_count": 3,
   "metadata": {},
   "outputs": [],
   "source": [
    "import numpy as np\n",
    "import pandas as pd\n",
    "import rasterio\n",
    "import fiona\n",
    "from rasterio.warp import calculate_default_transform, reproject, Resampling\n",
    "from rasterio.plot import show\n",
    "import rasterio.mask\n",
    "import datetime \n",
    "import gdal"
   ]
  },
  {
   "cell_type": "markdown",
   "metadata": {},
   "source": [
    "###  Functions"
   ]
  },
  {
   "cell_type": "code",
   "execution_count": 4,
   "metadata": {},
   "outputs": [],
   "source": [
    "def CreateRaster(lon,lat,data,resx,resy,save_directory):\n",
    "    from osgeo import gdal\n",
    "    from osgeo import gdal_array\n",
    "    from osgeo import osr,ogr\n",
    "\n",
    "    xmin,ymin,xmax,ymax = [lon.min(),lat.min(),lon.max(),lat.max()]\n",
    "    nrows,ncols = np.shape(data)\n",
    "    geotransform=(xmin-resy,resy,0,ymax+resx,0, -resx)  \n",
    "\n",
    "    output_raster = gdal.GetDriverByName('GTiff').Create(save_directory,ncols, nrows, 1 ,gdal.GDT_Float32)  # Open the file\n",
    "\n",
    "    output_raster.SetGeoTransform(geotransform)  # Specify its coordinates\n",
    "    srs = osr.SpatialReference()                 # Establish its coordinate encoding\n",
    "    srs.ImportFromEPSG(4326)                     # This one specifies WGS84 lat long.\n",
    "\n",
    "                                                 # Anyone know how to specify the \n",
    "\n",
    "                                                 # IAU2000:49900 Mars encoding\n",
    "    output_raster.SetProjection( srs.ExportToWkt() )   # Exports the coordinate system                                         \n",
    "    output_raster.GetRasterBand(1).WriteArray(data)   # Writes my array to the raster\n",
    "    output_raster.FlushCache()\n",
    "    return"
   ]
  },
  {
   "cell_type": "markdown",
   "metadata": {},
   "source": [
    "### Creation of  Aridity rasters"
   ]
  },
  {
   "cell_type": "code",
   "execution_count": 5,
   "metadata": {},
   "outputs": [],
   "source": [
    "path='D:/UNBC/HydroMet_Project/Data/ERA5_land/'\n",
    "\n",
    "for year in np.arange(1981,1982):\n",
    "    A=[];PET=[];Pre=[]\n",
    "    for month in np.arange(1,13):\n",
    "        #resampled  precipitation raster\n",
    "        with rasterio.open(path+'Tot_Precip/Monthly_Rasters/%s_%s_RE.tif'%(year,month) ) as src:\n",
    "            Precip= src.read(1)\n",
    "            out_meta = src.meta.copy()\n",
    "            \n",
    "        #resampled PET raster\n",
    "        with rasterio.open(path+'Potential_Evap/Raster_Calc_PET/%s_%s_Min_Ham.tif'%(year,month) ) as src:\n",
    "            PE = src.read(1)\n",
    "            out_meta = src.meta.copy()\n",
    "            \n",
    "        # difference between precip  and PET\n",
    "        A.append(PE-Precip)\n",
    "      \n",
    "    #Create Aridity Array\n",
    "    A=np.array(A)\n",
    "    Shape=np.shape(A)\n",
    "    Aridity=np.empty([Shape[1],Shape[2]])\n",
    "    for i in range(Shape[1]):\n",
    "        for j in range(Shape[2]):\n",
    "            W=A[:,i,j]\n",
    "            \n",
    "            # calculate annual aridity\n",
    "            Aridity[i,j]=np.sum(W[W>0])\n",
    "            \n",
    "            \n",
    "    #open lat and long coordinates\n",
    "    lat=np.load(path+'Potential_Evap/Lat_NEW.npy')\n",
    "    long=np.load(path+'Potential_Evap/Long_NEW.npy')\n",
    "    \n",
    "    #get x and y resolution\n",
    "    Resx=lat[0][0]-lat[1][0]\n",
    "    Resy=lat[0][0]-lat[1][0]\n",
    "    \n",
    "\n",
    "    x= np.array(Aridity)\n",
    "\n",
    "    #where to save the raster to\n",
    "    Save_file=path+'Aridity/%s_Ham_Min.tif'%(year)\n",
    "\n",
    "#     reshape data dimensions\n",
    "    data_array_ERA5=x\n",
    "    lat_array_ERA5=lat\n",
    "    lon_array_ERA5=long\n",
    "\n",
    "    # Create the raster\n",
    "    CreateRaster(lon=lon_array_ERA5,lat=lat_array_ERA5,data=data_array_ERA5, resx=Resx, resy=Resy, save_directory=Save_file)\n",
    "\n",
    "        "
   ]
  }
 ],
 "metadata": {
  "kernelspec": {
   "display_name": "Python 3",
   "language": "python",
   "name": "python3"
  },
  "language_info": {
   "codemirror_mode": {
    "name": "ipython",
    "version": 3
   },
   "file_extension": ".py",
   "mimetype": "text/x-python",
   "name": "python",
   "nbconvert_exporter": "python",
   "pygments_lexer": "ipython3",
   "version": "3.7.6"
  }
 },
 "nbformat": 4,
 "nbformat_minor": 4
}
